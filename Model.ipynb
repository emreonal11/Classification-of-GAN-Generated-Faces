{
  "cells": [
    {
      "cell_type": "code",
      "execution_count": null,
      "metadata": {
        "id": "G7LDRq2V9CDn"
      },
      "outputs": [],
      "source": [
        "import os\n",
        "import shutil\n",
        "import numpy as np\n",
        "from PIL import Image\n",
        "import matplotlib.pyplot as plt\n",
        "import keras\n",
        "from skimage.io import imread\n",
        "from sklearn.utils import shuffle\n",
        "from sklearn.model_selection import train_test_split\n",
        "from tensorflow.keras.utils import to_categorical\n",
        "from tensorflow.keras.utils import Sequence\n",
        "from keras import Sequential\n",
        "from scipy import ndimage \n",
        "from keras.layers import Conv2D, MaxPool2D, Dropout, Flatten, Dense, ReLU\n",
        "from keras.regularizers import l2\n",
        "from sklearn.metrics import confusion_matrix"
      ]
    },
    {
      "cell_type": "code",
      "execution_count": null,
      "metadata": {
        "id": "u-ybQdVwDRL9"
      },
      "outputs": [],
      "source": [
        "!unzip \"/content/drive/My Drive/Final_Folder.zip\" -d \"/content\""
      ]
    },
    {
      "cell_type": "markdown",
      "source": [
        "# Define Helper Functions\n"
      ],
      "metadata": {
        "id": "AFwYDkWzCHBW"
      }
    },
    {
      "cell_type": "markdown",
      "source": [
        "## Filenames and Labels Array Helper"
      ],
      "metadata": {
        "id": "SuVyP2xLCcvb"
      }
    },
    {
      "cell_type": "code",
      "execution_count": null,
      "metadata": {
        "id": "39nDlv-f9FlD"
      },
      "outputs": [],
      "source": [
        "def generate(GANs):\n",
        "  train_dir = '/content/Cropped_Folder'\n",
        "  filenames = []\n",
        "  labels = []\n",
        "  root_counter = 0\n",
        "\n",
        "  for i in range(len(GANs)):\n",
        "    GANs[i] = '/content/Cropped_Folder/Cropped_' + GANs[i]\n",
        "\n",
        "  for root, dirs, files in os.walk(train_dir, topdown=False):\n",
        "    if root in GANs:\n",
        "      for f in files:\n",
        "        if root + '/' + f == '/content/Cropped_Folder/Cropped_WGAN/.DS_Store':\n",
        "          continue\n",
        "        filenames.append(root + '/' + f)\n",
        "        labels.append(root_counter)\n",
        "      root_counter += 1\n",
        "  \n",
        "  return filenames, labels"
      ]
    },
    {
      "cell_type": "markdown",
      "source": [
        "## Custom Generator"
      ],
      "metadata": {
        "id": "9SwD2oC-C2Gb"
      }
    },
    {
      "cell_type": "code",
      "execution_count": null,
      "metadata": {
        "id": "Il5MtGgVDd31"
      },
      "outputs": [],
      "source": [
        "class Generator(Sequence):\n",
        "  \n",
        "    def __init__(self, filenames, labels, batch_size=32):\n",
        "        self.filenames = filenames\n",
        "        self.labels = labels\n",
        "        self.batch_size = batch_size\n",
        "    \n",
        "    def __len__(self) :\n",
        "        epoch_length = np.floor(len(self.filenames))\n",
        "        return (epoch_length / float(self.batch_size)).astype(np.int)\n",
        "  \n",
        "    def __getitem__(self, idx) :\n",
        "        start = idx * self.batch_size\n",
        "        end = (idx + 1) * self.batch_size\n",
        "    \n",
        "        batch_x = self.filenames[start: end]\n",
        "        batch_y = self.labels[start: end]\n",
        "    \n",
        "        X = np.zeros((self.batch_size, 178, 178, 3))\n",
        "        \n",
        "        for i in range(self.batch_size):\n",
        "            X[i, :, :, :] = np.array(imread(batch_x[i], plugin='matplotlib')/255.0)[:, :, :3]\n",
        "        \n",
        "        y = np.array(to_categorical(batch_y))\n",
        "        return X, y        "
      ]
    },
    {
      "cell_type": "markdown",
      "source": [
        "## Minibatch Std. Dev. Layer"
      ],
      "metadata": {
        "id": "pBttU2giC4Dt"
      }
    },
    {
      "cell_type": "code",
      "source": [
        "### MinibatchStdDev implementation from https://machinelearningmastery.com/how-to-train-a-progressive-growing-gan-in-keras-for-synthesizing-faces/\n",
        "from math import sqrt\n",
        "from keras import backend\n",
        "from keras.layers import Layer\n",
        "\n",
        "class MinibatchStdev(Layer):\n",
        "\tdef __init__(self, **kwargs):\n",
        "\t\tsuper(MinibatchStdev, self).__init__(**kwargs)\n",
        " \n",
        "\tdef call(self, inputs):\n",
        "\t\tmean = backend.mean(inputs, axis=0, keepdims=True)\n",
        "\t\tsqu_diffs = backend.square(inputs - mean)\n",
        "\t\tmean_sq_diff = backend.mean(squ_diffs, axis=0, keepdims=True)\n",
        "\t\tmean_sq_diff += 1e-8\n",
        "\t\tstdev = backend.sqrt(mean_sq_diff)\n",
        "\t\tmean_pix = backend.mean(stdev, keepdims=True)\n",
        "\t\tshape = backend.shape(inputs)\n",
        "\t\toutput = backend.tile(mean_pix, (shape[0], shape[1], shape[2], 1))\n",
        "\t\tcombined = backend.concatenate([inputs, output], axis=-1)\n",
        "\t\treturn combined\n",
        " \n",
        "\tdef compute_output_shape(self, input_shape):\n",
        "\t\tinput_shape = list(input_shape)\n",
        "\t\tinput_shape[-1] += 1\n",
        "\t\treturn tuple(input_shape)"
      ],
      "metadata": {
        "id": "xVAz_vDZl8YU"
      },
      "execution_count": null,
      "outputs": []
    },
    {
      "cell_type": "markdown",
      "source": [
        "# Classification on CelebFaces, PGGAN, StyleGAN"
      ],
      "metadata": {
        "id": "bBwNKEZ0DGDQ"
      }
    },
    {
      "cell_type": "markdown",
      "source": [
        "## Load Dataset"
      ],
      "metadata": {
        "id": "NafgbHgMDKkt"
      }
    },
    {
      "cell_type": "code",
      "execution_count": null,
      "metadata": {
        "id": "CqzL3eXnCjrQ"
      },
      "outputs": [],
      "source": [
        "filenames, labels = generate(['CelebFaces', 'PGGAN', 'StyleGAN'])\n",
        "filenames_shuffled, labels_shuffled = shuffle(filenames, labels)\n",
        "X_train, X_test, y_train, y_test = train_test_split(filenames_shuffled, labels_shuffled, test_size = 0.2, random_state = 42)\n",
        "training_gen = Generator(X_train, y_train)"
      ]
    },
    {
      "cell_type": "code",
      "source": [
        "n_images = 10000\n",
        "X_train_np = np.zeros((n_images, 178, 178, 3))\n",
        "\n",
        "print('.... Loading Images From Files ....')\n",
        "for i in range(n_images):\n",
        "  X_train_np[i, :, :, :] = np.array(imread(X_train[i])/255.0)[:, :, :3]\n",
        "  if i%1000 == 0:\n",
        "    print('iteration', i)\n",
        "\n",
        "y_train_np = to_categorical(y_train)"
      ],
      "metadata": {
        "colab": {
          "base_uri": "https://localhost:8080/"
        },
        "id": "1SrM1HfefOdb",
        "outputId": "07813a1f-1ffe-4194-ea90-593f0cc39d96"
      },
      "execution_count": null,
      "outputs": [
        {
          "output_type": "stream",
          "name": "stdout",
          "text": [
            ".... Loading Images From Files ....\n",
            "iteration 0\n",
            "iteration 1000\n",
            "iteration 2000\n",
            "iteration 3000\n",
            "iteration 4000\n",
            "iteration 5000\n",
            "iteration 6000\n",
            "iteration 7000\n",
            "iteration 8000\n",
            "iteration 9000\n"
          ]
        }
      ]
    },
    {
      "cell_type": "markdown",
      "source": [
        "## Baseline CNN "
      ],
      "metadata": {
        "id": "DT4MQgkxDXos"
      }
    },
    {
      "cell_type": "code",
      "execution_count": null,
      "metadata": {
        "id": "mF0LQQoHj6uk"
      },
      "outputs": [],
      "source": [
        "model3 = Sequential()\n",
        "\n",
        "model3.add(Conv2D(32,(3,3),input_shape = (178,178,3), padding='same',))\n",
        "model3.add(ReLU())\n",
        "model3.add(MaxPool2D(pool_size=(2,2)))\n",
        "\n",
        "model3.add(Conv2D(64, (3, 3), padding='same'))\n",
        "model3.add(ReLU())\n",
        "model3.add(MaxPool2D((2, 2)))\n",
        "\n",
        "model3.add(Conv2D(128, (3, 3), padding='same'))\n",
        "model3.add(ReLU())\n",
        "model3.add(MaxPool2D((2, 2)))\n",
        "\n",
        "model3.add(Flatten())\n",
        "\n",
        "model3.add(Dense(128, activation = 'relu'))\n",
        "model3.add(Dense(3, activation='sigmoid'))\n",
        "\n",
        "model3.compile(optimizer = 'adam', loss = 'binary_crossentropy', metrics = ['accuracy'])"
      ]
    },
    {
      "cell_type": "code",
      "execution_count": null,
      "metadata": {
        "colab": {
          "base_uri": "https://localhost:8080/"
        },
        "id": "3eyktH3zkA27",
        "outputId": "5d12c0b4-5d42-412a-819e-d0094473c860"
      },
      "outputs": [
        {
          "output_type": "stream",
          "name": "stdout",
          "text": [
            "Epoch 1/10\n",
            "250/250 [==============================] - 14s 24ms/step - loss: 0.4122 - accuracy: 0.6342 - val_loss: 0.3072 - val_accuracy: 0.7680\n",
            "Epoch 2/10\n",
            "250/250 [==============================] - 5s 21ms/step - loss: 0.2696 - accuracy: 0.8029 - val_loss: 0.2209 - val_accuracy: 0.8515\n",
            "Epoch 3/10\n",
            "250/250 [==============================] - 5s 21ms/step - loss: 0.1473 - accuracy: 0.9121 - val_loss: 0.1396 - val_accuracy: 0.9090\n",
            "Epoch 4/10\n",
            "250/250 [==============================] - 5s 21ms/step - loss: 0.0645 - accuracy: 0.9649 - val_loss: 0.1026 - val_accuracy: 0.9480\n",
            "Epoch 5/10\n",
            "250/250 [==============================] - 5s 21ms/step - loss: 0.0279 - accuracy: 0.9866 - val_loss: 0.0916 - val_accuracy: 0.9515\n",
            "Epoch 6/10\n",
            "250/250 [==============================] - 5s 21ms/step - loss: 0.0144 - accuracy: 0.9941 - val_loss: 0.0969 - val_accuracy: 0.9530\n",
            "Epoch 7/10\n",
            "250/250 [==============================] - 5s 21ms/step - loss: 0.0092 - accuracy: 0.9955 - val_loss: 0.1196 - val_accuracy: 0.9465\n",
            "Epoch 8/10\n",
            "250/250 [==============================] - 5s 21ms/step - loss: 0.0101 - accuracy: 0.9954 - val_loss: 0.1208 - val_accuracy: 0.9470\n",
            "Epoch 9/10\n",
            "250/250 [==============================] - 5s 21ms/step - loss: 0.0037 - accuracy: 0.9987 - val_loss: 0.1077 - val_accuracy: 0.9530\n",
            "Epoch 10/10\n",
            "250/250 [==============================] - 5s 21ms/step - loss: 0.0039 - accuracy: 0.9987 - val_loss: 0.1408 - val_accuracy: 0.9520\n"
          ]
        }
      ],
      "source": [
        "history3 = model3.fit(X_train_np, y_train_np, epochs=10, validation_split=0.2)"
      ]
    },
    {
      "cell_type": "code",
      "source": [
        "model3.save('/content/drive/My Drive/model_linear')"
      ],
      "metadata": {
        "colab": {
          "base_uri": "https://localhost:8080/"
        },
        "id": "BCt2FwNhoCwC",
        "outputId": "ac8fee95-8921-44e6-98ce-854d6cc86cbd"
      },
      "execution_count": null,
      "outputs": [
        {
          "output_type": "stream",
          "name": "stdout",
          "text": [
            "INFO:tensorflow:Assets written to: /content/drive/My Drive/model_linear/assets\n"
          ]
        },
        {
          "output_type": "stream",
          "name": "stderr",
          "text": [
            "INFO:tensorflow:Assets written to: /content/drive/My Drive/model_linear/assets\n"
          ]
        }
      ]
    },
    {
      "cell_type": "code",
      "execution_count": null,
      "metadata": {
        "colab": {
          "base_uri": "https://localhost:8080/",
          "height": 312
        },
        "id": "USPxyxR6mZIa",
        "outputId": "91b2a30b-c085-46ad-87d1-4e324e883a1b"
      },
      "outputs": [
        {
          "output_type": "execute_result",
          "data": {
            "text/plain": [
              "<matplotlib.legend.Legend at 0x7f538058c0d0>"
            ]
          },
          "metadata": {},
          "execution_count": 10
        },
        {
          "output_type": "display_data",
          "data": {
            "image/png": "[encoded data removed]",
            "text/plain": [
              "<Figure size 432x288 with 1 Axes>"
            ]
          },
          "metadata": {
            "needs_background": "light"
          }
        }
      ],
      "source": [
        "plt.plot(history3.history['accuracy'], label = 'Training Accuracy')\n",
        "plt.plot(history3.history['val_accuracy'], label = 'Validation Accuray')\n",
        "plt.title('Model Train and Validation Accuracy')\n",
        "plt.xlabel('Epoch')\n",
        "plt.ylabel('Accuracy (%)')\n",
        "plt.legend()"
      ]
    },
    {
      "cell_type": "markdown",
      "source": [
        "## Dropout + L2 CNN"
      ],
      "metadata": {
        "id": "8TbUNEEiDdjU"
      }
    },
    {
      "cell_type": "code",
      "execution_count": null,
      "metadata": {
        "id": "CU_q44ObFsQu"
      },
      "outputs": [],
      "source": [
        "model4 = Sequential()\n",
        "\n",
        "model4.add(Conv2D(32,(3,3),input_shape = (178,178,3), padding='same',))\n",
        "model4.add(ReLU())\n",
        "model4.add(MaxPool2D(pool_size=(2,2)))\n",
        "model4.add(Dropout(0.2))\n",
        "\n",
        "model4.add(Conv2D(64, (3, 3), padding='same'))\n",
        "model4.add(ReLU())\n",
        "model4.add(MaxPool2D((2, 2)))\n",
        "model4.add(Dropout(0.2))\n",
        "\n",
        "model4.add(Conv2D(128, (3, 3), padding='same'))\n",
        "model4.add(ReLU())\n",
        "model4.add(MaxPool2D((2, 2)))\n",
        "model4.add(Dropout(0.2))\n",
        "\n",
        "model4.add(Flatten())\n",
        "\n",
        "model4.add(Dense(128, activation = 'relu', kernel_regularizer = l2 (l = 0.0004)))\n",
        "model4.add(Dense(3, activation='sigmoid'))\n",
        "\n",
        "model4.compile(optimizer = 'adam', loss = 'binary_crossentropy', metrics = ['accuracy'])"
      ]
    },
    {
      "cell_type": "code",
      "execution_count": null,
      "metadata": {
        "colab": {
          "base_uri": "https://localhost:8080/"
        },
        "id": "W3lXAJczGMdQ",
        "outputId": "07db5828-289e-4a6e-f8de-776e45631875"
      },
      "outputs": [
        {
          "output_type": "stream",
          "name": "stdout",
          "text": [
            "Epoch 1/20\n",
            "250/250 [==============================] - 7s 26ms/step - loss: 0.4822 - accuracy: 0.6114 - val_loss: 0.3607 - val_accuracy: 0.6540\n",
            "Epoch 2/20\n",
            "250/250 [==============================] - 6s 24ms/step - loss: 0.3337 - accuracy: 0.7471 - val_loss: 0.3187 - val_accuracy: 0.7780\n",
            "Epoch 3/20\n",
            "250/250 [==============================] - 6s 24ms/step - loss: 0.2875 - accuracy: 0.8110 - val_loss: 0.2615 - val_accuracy: 0.8415\n",
            "Epoch 4/20\n",
            "250/250 [==============================] - 6s 24ms/step - loss: 0.2319 - accuracy: 0.8739 - val_loss: 0.2078 - val_accuracy: 0.9005\n",
            "Epoch 5/20\n",
            "250/250 [==============================] - 6s 24ms/step - loss: 0.1828 - accuracy: 0.9145 - val_loss: 0.1777 - val_accuracy: 0.9285\n",
            "Epoch 6/20\n",
            "250/250 [==============================] - 6s 24ms/step - loss: 0.1569 - accuracy: 0.9362 - val_loss: 0.1539 - val_accuracy: 0.9375\n",
            "Epoch 7/20\n",
            "250/250 [==============================] - 6s 23ms/step - loss: 0.1375 - accuracy: 0.9484 - val_loss: 0.1409 - val_accuracy: 0.9425\n",
            "Epoch 8/20\n",
            "250/250 [==============================] - 6s 24ms/step - loss: 0.1259 - accuracy: 0.9535 - val_loss: 0.2076 - val_accuracy: 0.8880\n",
            "Epoch 9/20\n",
            "250/250 [==============================] - 6s 23ms/step - loss: 0.1101 - accuracy: 0.9664 - val_loss: 0.1432 - val_accuracy: 0.9405\n",
            "Epoch 10/20\n",
            "250/250 [==============================] - 6s 24ms/step - loss: 0.1010 - accuracy: 0.9679 - val_loss: 0.1204 - val_accuracy: 0.9550\n",
            "Epoch 11/20\n",
            "250/250 [==============================] - 6s 24ms/step - loss: 0.0925 - accuracy: 0.9750 - val_loss: 0.1186 - val_accuracy: 0.9560\n",
            "Epoch 12/20\n",
            "250/250 [==============================] - 6s 24ms/step - loss: 0.0899 - accuracy: 0.9747 - val_loss: 0.1078 - val_accuracy: 0.9640\n",
            "Epoch 13/20\n",
            "250/250 [==============================] - 6s 24ms/step - loss: 0.0814 - accuracy: 0.9787 - val_loss: 0.0993 - val_accuracy: 0.9665\n",
            "Epoch 14/20\n",
            "250/250 [==============================] - 6s 24ms/step - loss: 0.0805 - accuracy: 0.9779 - val_loss: 0.1226 - val_accuracy: 0.9565\n",
            "Epoch 15/20\n",
            "250/250 [==============================] - 6s 24ms/step - loss: 0.0760 - accuracy: 0.9827 - val_loss: 0.0858 - val_accuracy: 0.9735\n",
            "Epoch 16/20\n",
            "250/250 [==============================] - 6s 24ms/step - loss: 0.0777 - accuracy: 0.9801 - val_loss: 0.0974 - val_accuracy: 0.9665\n",
            "Epoch 17/20\n",
            "250/250 [==============================] - 6s 23ms/step - loss: 0.0717 - accuracy: 0.9811 - val_loss: 0.1012 - val_accuracy: 0.9690\n",
            "Epoch 18/20\n",
            "250/250 [==============================] - 6s 23ms/step - loss: 0.0627 - accuracy: 0.9872 - val_loss: 0.1032 - val_accuracy: 0.9580\n",
            "Epoch 19/20\n",
            "250/250 [==============================] - 6s 23ms/step - loss: 0.0676 - accuracy: 0.9835 - val_loss: 0.1123 - val_accuracy: 0.9620\n",
            "Epoch 20/20\n",
            "250/250 [==============================] - 6s 23ms/step - loss: 0.0645 - accuracy: 0.9864 - val_loss: 0.1026 - val_accuracy: 0.9600\n"
          ]
        }
      ],
      "source": [
        "history4 = model4.fit(X_train_np, y_train_np, epochs=20, validation_split=0.2)"
      ]
    },
    {
      "cell_type": "code",
      "source": [
        ""
      ],
      "metadata": {
        "id": "moi4gztD8QB8"
      },
      "execution_count": null,
      "outputs": []
    },
    {
      "cell_type": "code",
      "execution_count": null,
      "metadata": {
        "colab": {
          "base_uri": "https://localhost:8080/",
          "height": 312
        },
        "id": "nIYvaqLsX9UU",
        "outputId": "746da40c-88b3-4821-f2a5-64bb3abf77c1"
      },
      "outputs": [
        {
          "output_type": "execute_result",
          "data": {
            "text/plain": [
              "<matplotlib.legend.Legend at 0x7f52fe4e5e10>"
            ]
          },
          "metadata": {},
          "execution_count": 17
        },
        {
          "output_type": "display_data",
          "data": {
            "image/png": "[encoded data removed]",
            "text/plain": [
              "<Figure size 432x288 with 1 Axes>"
            ]
          },
          "metadata": {
            "needs_background": "light"
          }
        }
      ],
      "source": [
        "plt.plot(history4.history['accuracy'], label = 'Training Accuracy')\n",
        "plt.plot(history4.history['val_accuracy'], label = 'Validation Accuray')\n",
        "plt.title('Model Train and Validation Accuracy')\n",
        "plt.xlabel('Epoch')\n",
        "plt.ylabel('Accuracy (%)')\n",
        "plt.legend()"
      ]
    },
    {
      "cell_type": "markdown",
      "source": [
        "## (3x3) Laplacian Filter"
      ],
      "metadata": {
        "id": "8x6LS66iDgIO"
      }
    },
    {
      "cell_type": "code",
      "execution_count": null,
      "metadata": {
        "id": "h7yoyCcxX1Oo"
      },
      "outputs": [],
      "source": [
        "model5 = Sequential()\n",
        "\n",
        "model5.add(Conv2D(32,(3,3), padding='same',))\n",
        "model5.add(ReLU())\n",
        "model5.add(MaxPool2D(pool_size=(2,2)))\n",
        "model5.add(Dropout(0.2))\n",
        "\n",
        "model5.add(Conv2D(64, (3, 3), padding='same'))\n",
        "model5.add(ReLU())\n",
        "model5.add(MaxPool2D((2, 2)))\n",
        "model5.add(Dropout(0.2))\n",
        "\n",
        "model5.add(Conv2D(128, (3, 3), padding='same'))\n",
        "model5.add(ReLU())\n",
        "model5.add(MaxPool2D((2, 2)))\n",
        "model5.add(Dropout(0.2))\n",
        "\n",
        "model5.add(Flatten())\n",
        "\n",
        "model5.add(Dense(128, activation = 'relu', kernel_regularizer = l2 (l=0.0003)))\n",
        "model5.add(Dense(3, activation='sigmoid'))\n",
        "\n",
        "model5.compile(optimizer = 'adam', loss = 'binary_crossentropy', metrics = ['accuracy'])"
      ]
    },
    {
      "cell_type": "code",
      "source": [
        "from scipy import ndimage\n",
        "\n",
        "n_images = 10000\n",
        "X_train_np = np.zeros((n_images, 178, 178, 3))\n",
        "\n",
        "kernel = np.array([[-1, -1, -1],\n",
        "                   [-1,  8, -1],\n",
        "                   [-1, -1, -1]])\n",
        "\n",
        "print('.... Loading Images From Files ....')\n",
        "for i in range(n_images):\n",
        "  img0 = np.array(imread(X_train[i])/255.0)[:, :, 0]\n",
        "  img1 = np.array(imread(X_train[i])/255.0)[:, :, 1]\n",
        "  img2 = np.array(imread(X_train[i])/255.0)[:, :, 2]\n",
        "  X_train_np[i, :, :, 0] = ndimage.convolve(img0, kernel, mode='constant')\n",
        "  X_train_np[i, :, :, 1] = ndimage.convolve(img1, kernel, mode='constant')\n",
        "  X_train_np[i, :, :, 2] = ndimage.convolve(img2, kernel, mode='constant')\n",
        "  if i%1000 == 0:\n",
        "    print('iteration', i)\n",
        "\n",
        "y_train_np = to_categorical(y_train)"
      ],
      "metadata": {
        "colab": {
          "base_uri": "https://localhost:8080/"
        },
        "id": "myr8OCcWDd-J",
        "outputId": "8464ade5-063f-4171-e633-98362f12a501"
      },
      "execution_count": null,
      "outputs": [
        {
          "output_type": "stream",
          "name": "stdout",
          "text": [
            ".... Loading Images From Files ....\n",
            "iteration 0\n",
            "iteration 1000\n",
            "iteration 2000\n",
            "iteration 3000\n",
            "iteration 4000\n",
            "iteration 5000\n",
            "iteration 6000\n",
            "iteration 7000\n",
            "iteration 8000\n",
            "iteration 9000\n"
          ]
        }
      ]
    },
    {
      "cell_type": "code",
      "execution_count": null,
      "metadata": {
        "colab": {
          "base_uri": "https://localhost:8080/"
        },
        "id": "lEnkKHROX7di",
        "outputId": "0717c0c5-12f6-47e6-f70e-3b5f521abf87"
      },
      "outputs": [
        {
          "output_type": "stream",
          "name": "stdout",
          "text": [
            "Epoch 1/10\n",
            "267/267 [==============================] - 8s 27ms/step - loss: 0.4394 - accuracy: 0.7228 - val_loss: 0.2905 - val_accuracy: 0.8345\n",
            "Epoch 2/10\n",
            "267/267 [==============================] - 6s 23ms/step - loss: 0.1898 - accuracy: 0.9179 - val_loss: 0.1498 - val_accuracy: 0.9455\n",
            "Epoch 3/10\n",
            "267/267 [==============================] - 6s 23ms/step - loss: 0.0978 - accuracy: 0.9749 - val_loss: 0.0830 - val_accuracy: 0.9830\n",
            "Epoch 4/10\n",
            "267/267 [==============================] - 6s 23ms/step - loss: 0.0675 - accuracy: 0.9883 - val_loss: 0.0714 - val_accuracy: 0.9845\n",
            "Epoch 5/10\n",
            "267/267 [==============================] - 6s 23ms/step - loss: 0.0469 - accuracy: 0.9958 - val_loss: 0.0653 - val_accuracy: 0.9845\n",
            "Epoch 6/10\n",
            "267/267 [==============================] - 6s 23ms/step - loss: 0.0492 - accuracy: 0.9924 - val_loss: 0.0631 - val_accuracy: 0.9830\n",
            "Epoch 7/10\n",
            "267/267 [==============================] - 6s 23ms/step - loss: 0.0460 - accuracy: 0.9935 - val_loss: 0.0485 - val_accuracy: 0.9935\n",
            "Epoch 8/10\n",
            "267/267 [==============================] - 6s 23ms/step - loss: 0.0404 - accuracy: 0.9959 - val_loss: 0.0404 - val_accuracy: 0.9940\n",
            "Epoch 9/10\n",
            "267/267 [==============================] - 6s 23ms/step - loss: 0.0335 - accuracy: 0.9975 - val_loss: 0.0467 - val_accuracy: 0.9905\n",
            "Epoch 10/10\n",
            "267/267 [==============================] - 6s 23ms/step - loss: 0.0355 - accuracy: 0.9962 - val_loss: 0.0404 - val_accuracy: 0.9950\n"
          ]
        }
      ],
      "source": [
        "history5 = model5.fit(X_train_np, y_train_np, batch_size=30, epochs=10, validation_split=0.2)"
      ]
    },
    {
      "cell_type": "code",
      "execution_count": null,
      "metadata": {
        "colab": {
          "base_uri": "https://localhost:8080/",
          "height": 282
        },
        "id": "i6pOPZADYDQP",
        "outputId": "fdd47716-f7cf-4b1b-faff-9f303ce632b5"
      },
      "outputs": [
        {
          "output_type": "execute_result",
          "data": {
            "text/plain": [
              "<matplotlib.legend.Legend at 0x7f51f3ae8810>"
            ]
          },
          "metadata": {},
          "execution_count": 89
        },
        {
          "output_type": "display_data",
          "data": {
            "image/png": "[encoded data removed]",
            "text/plain": [
              "<Figure size 432x288 with 1 Axes>"
            ]
          },
          "metadata": {
            "needs_background": "light"
          }
        }
      ],
      "source": [
        "plt.plot(history5.history['accuracy'], label = 'Training Accuracy')\n",
        "plt.plot(history5.history['val_accuracy'], label = 'Validation Accuray')\n",
        "plt.legend()"
      ]
    },
    {
      "cell_type": "code",
      "source": [
        "model5.save('/content/drive/My Drive/sharpening_model')"
      ],
      "metadata": {
        "colab": {
          "base_uri": "https://localhost:8080/"
        },
        "id": "IcqFqYinVp86",
        "outputId": "f985f156-29a9-4d9f-8f93-12bb3e6f13f0"
      },
      "execution_count": null,
      "outputs": [
        {
          "output_type": "stream",
          "name": "stdout",
          "text": [
            "INFO:tensorflow:Assets written to: /content/drive/My Drive/sharpening_model/assets\n"
          ]
        }
      ]
    },
    {
      "cell_type": "markdown",
      "source": [
        "## (5x5) Laplacian Filter"
      ],
      "metadata": {
        "id": "riBMZtxtGsxl"
      }
    },
    {
      "cell_type": "code",
      "source": [
        "model6 = Sequential()\n",
        "\n",
        "model6.add(Conv2D(32,(3,3), padding='same',))\n",
        "model6.add(ReLU())\n",
        "model6.add(MaxPool2D(pool_size=(2,2)))\n",
        "model6.add(Dropout(0.2))\n",
        "\n",
        "model6.add(Conv2D(64, (3, 3), padding='same'))\n",
        "model6.add(ReLU())\n",
        "model6.add(MaxPool2D((2, 2)))\n",
        "model6.add(Dropout(0.2))\n",
        "\n",
        "model6.add(Conv2D(128, (3, 3), padding='same'))\n",
        "model6.add(ReLU())\n",
        "model6.add(MaxPool2D((2, 2)))\n",
        "model6.add(Dropout(0.2))\n",
        "\n",
        "model6.add(Flatten())\n",
        "\n",
        "model6.add(Dense(128, activation = 'relu', kernel_regularizer = l2 (l=0.0003)))\n",
        "model6.add(Dense(3, activation='sigmoid'))\n",
        "\n",
        "model6.compile(optimizer = 'adam', loss = 'binary_crossentropy', metrics = ['accuracy'])"
      ],
      "metadata": {
        "id": "_s8lDwTcGvfR"
      },
      "execution_count": null,
      "outputs": []
    },
    {
      "cell_type": "code",
      "source": [
        "from scipy import ndimage\n",
        "\n",
        "n_images = 10000\n",
        "X_train_np = np.zeros((n_images, 178, 178, 3))\n",
        "\n",
        "kernel = np.array(\n",
        "[[-1, -1, -1, -1, -1],\n",
        "[-1, 1, 2, 1, -1],\n",
        "[-1, 2, 4, 2, -1],\n",
        "[-1, 1, 2, 1, -1],\n",
        "[-1, -1, -1, -1, -1]])\n",
        "\n",
        "print('.... Loading Images From Files ....')\n",
        "for i in range(n_images):\n",
        "  img0 = np.array(imread(X_train[i])/255.0)[:, :, 0]\n",
        "  img1 = np.array(imread(X_train[i])/255.0)[:, :, 1]\n",
        "  img2 = np.array(imread(X_train[i])/255.0)[:, :, 2]\n",
        "  X_train_np[i, :, :, 0] = ndimage.convolve(img0, kernel, mode='constant')\n",
        "  X_train_np[i, :, :, 1] = ndimage.convolve(img1, kernel, mode='constant')\n",
        "  X_train_np[i, :, :, 2] = ndimage.convolve(img2, kernel, mode='constant')\n",
        "  if i%1000 == 0:\n",
        "    print('iteration', i)\n",
        "\n",
        "y_train_np = to_categorical(y_train)"
      ],
      "metadata": {
        "colab": {
          "base_uri": "https://localhost:8080/"
        },
        "id": "FtEGMEtIG10g",
        "outputId": "39c47943-a18b-44cc-e674-f16001e67600"
      },
      "execution_count": null,
      "outputs": [
        {
          "output_type": "stream",
          "name": "stdout",
          "text": [
            ".... Loading Images From Files ....\n",
            "iteration 0\n",
            "iteration 1000\n",
            "iteration 2000\n",
            "iteration 3000\n",
            "iteration 4000\n",
            "iteration 5000\n",
            "iteration 6000\n",
            "iteration 7000\n",
            "iteration 8000\n",
            "iteration 9000\n"
          ]
        }
      ]
    },
    {
      "cell_type": "code",
      "source": [
        "history5 = model6.fit(X_train_np, y_train_np, batch_size=30, epochs=10, validation_split=0.2)"
      ],
      "metadata": {
        "colab": {
          "base_uri": "https://localhost:8080/"
        },
        "id": "UESEk3FIHCT-",
        "outputId": "abfd8569-2149-44f3-e878-2a285c423968"
      },
      "execution_count": null,
      "outputs": [
        {
          "output_type": "stream",
          "name": "stdout",
          "text": [
            "Epoch 1/10\n",
            "267/267 [==============================] - 8s 26ms/step - loss: 0.4886 - accuracy: 0.6952 - val_loss: 0.2945 - val_accuracy: 0.8340\n",
            "Epoch 2/10\n",
            "267/267 [==============================] - 6s 23ms/step - loss: 0.2253 - accuracy: 0.8917 - val_loss: 0.1585 - val_accuracy: 0.9410\n",
            "Epoch 3/10\n",
            "267/267 [==============================] - 6s 23ms/step - loss: 0.1346 - accuracy: 0.9513 - val_loss: 0.1268 - val_accuracy: 0.9575\n",
            "Epoch 4/10\n",
            "267/267 [==============================] - 6s 23ms/step - loss: 0.1061 - accuracy: 0.9729 - val_loss: 0.0951 - val_accuracy: 0.9760\n",
            "Epoch 5/10\n",
            "267/267 [==============================] - 6s 23ms/step - loss: 0.0815 - accuracy: 0.9834 - val_loss: 0.1020 - val_accuracy: 0.9660\n",
            "Epoch 6/10\n",
            "267/267 [==============================] - 6s 23ms/step - loss: 0.0704 - accuracy: 0.9880 - val_loss: 0.0749 - val_accuracy: 0.9840\n",
            "Epoch 7/10\n",
            "267/267 [==============================] - 6s 23ms/step - loss: 0.0665 - accuracy: 0.9895 - val_loss: 0.0771 - val_accuracy: 0.9830\n",
            "Epoch 8/10\n",
            "267/267 [==============================] - 6s 23ms/step - loss: 0.0638 - accuracy: 0.9886 - val_loss: 0.0866 - val_accuracy: 0.9785\n",
            "Epoch 9/10\n",
            "267/267 [==============================] - 6s 23ms/step - loss: 0.0594 - accuracy: 0.9905 - val_loss: 0.0568 - val_accuracy: 0.9915\n",
            "Epoch 10/10\n",
            "267/267 [==============================] - 6s 23ms/step - loss: 0.0605 - accuracy: 0.9902 - val_loss: 0.0713 - val_accuracy: 0.9820\n"
          ]
        }
      ]
    },
    {
      "cell_type": "code",
      "source": [
        "model6.save('/content/drive/My Drive/large_high_pass')"
      ],
      "metadata": {
        "colab": {
          "base_uri": "https://localhost:8080/"
        },
        "id": "DzAfhPNmL3ge",
        "outputId": "2248aa55-6813-481b-eaf9-14218376ffa1"
      },
      "execution_count": null,
      "outputs": [
        {
          "output_type": "stream",
          "name": "stdout",
          "text": [
            "INFO:tensorflow:Assets written to: /content/drive/My Drive/large_high_pass/assets\n"
          ]
        }
      ]
    },
    {
      "cell_type": "markdown",
      "source": [
        "## (3x3) Gaussian Smoothing Filter"
      ],
      "metadata": {
        "id": "2Xag58WDH5hu"
      }
    },
    {
      "cell_type": "code",
      "source": [
        "model7 = Sequential()\n",
        "\n",
        "model7.add(Conv2D(32,(3,3), padding='same',))\n",
        "model7.add(ReLU())\n",
        "model7.add(MaxPool2D(pool_size=(2,2)))\n",
        "model7.add(Dropout(0.2))\n",
        "\n",
        "model7.add(Conv2D(64, (3, 3), padding='same'))\n",
        "model7.add(ReLU())\n",
        "model7.add(MaxPool2D((2, 2)))\n",
        "model7.add(Dropout(0.2))\n",
        "\n",
        "model7.add(Conv2D(128, (3, 3), padding='same'))\n",
        "model7.add(ReLU())\n",
        "model7.add(MaxPool2D((2, 2)))\n",
        "model7.add(Dropout(0.2))\n",
        "\n",
        "model7.add(Flatten())\n",
        "\n",
        "model7.add(Dense(128, activation = 'relu', kernel_regularizer = l2 (l=0.0003)))\n",
        "model7.add(Dense(3, activation='sigmoid'))\n",
        "\n",
        "model7.compile(optimizer = 'adam', loss = 'binary_crossentropy', metrics = ['accuracy'])"
      ],
      "metadata": {
        "id": "7Y-WcGDUH4zt"
      },
      "execution_count": null,
      "outputs": []
    },
    {
      "cell_type": "code",
      "source": [
        "from scipy import ndimage\n",
        "\n",
        "n_images = 10000\n",
        "X_train_np = np.zeros((n_images, 178, 178, 3))\n",
        "\n",
        "kernel = np.array([[1, 2, 1],\n",
        "                   [2,  4, 2],\n",
        "                   [1, 2, 1]])/16\n",
        "\n",
        "print('.... Loading Images From Files ....')\n",
        "for i in range(n_images):\n",
        "  img0 = np.array(imread(X_train[i])/255.0)[:, :, 0]\n",
        "  img1 = np.array(imread(X_train[i])/255.0)[:, :, 1]\n",
        "  img2 = np.array(imread(X_train[i])/255.0)[:, :, 2]\n",
        "  X_train_np[i, :, :, 0] = ndimage.convolve(img0, kernel, mode='constant')\n",
        "  X_train_np[i, :, :, 1] = ndimage.convolve(img1, kernel, mode='constant')\n",
        "  X_train_np[i, :, :, 2] = ndimage.convolve(img2, kernel, mode='constant')\n",
        "  if i%1000 == 0:\n",
        "    print('iteration', i)\n",
        "\n",
        "y_train_np = to_categorical(y_train)"
      ],
      "metadata": {
        "id": "wR031Cy8IJen",
        "colab": {
          "base_uri": "https://localhost:8080/"
        },
        "outputId": "4a085017-4708-4a20-dc42-baeee0beb79b"
      },
      "execution_count": null,
      "outputs": [
        {
          "output_type": "stream",
          "name": "stdout",
          "text": [
            ".... Loading Images From Files ....\n",
            "iteration 0\n",
            "iteration 1000\n",
            "iteration 2000\n",
            "iteration 3000\n",
            "iteration 4000\n",
            "iteration 5000\n",
            "iteration 6000\n",
            "iteration 7000\n",
            "iteration 8000\n",
            "iteration 9000\n"
          ]
        }
      ]
    },
    {
      "cell_type": "code",
      "source": [
        "history7 = model7.fit(X_train_np, y_train_np, batch_size=30, epochs=20, validation_split=0.2)"
      ],
      "metadata": {
        "colab": {
          "base_uri": "https://localhost:8080/"
        },
        "id": "npJ1jWdGIkRx",
        "outputId": "9f7dca9b-35ab-4e70-9930-893966e998c6"
      },
      "execution_count": null,
      "outputs": [
        {
          "output_type": "stream",
          "name": "stdout",
          "text": [
            "Epoch 1/20\n",
            "267/267 [==============================] - 15s 26ms/step - loss: 0.6002 - accuracy: 0.5281 - val_loss: 0.3740 - val_accuracy: 0.7170\n",
            "Epoch 2/20\n",
            "267/267 [==============================] - 6s 23ms/step - loss: 0.3504 - accuracy: 0.7186 - val_loss: 0.3288 - val_accuracy: 0.7300\n",
            "Epoch 3/20\n",
            "267/267 [==============================] - 6s 23ms/step - loss: 0.3098 - accuracy: 0.7684 - val_loss: 0.3124 - val_accuracy: 0.7495\n",
            "Epoch 4/20\n",
            "267/267 [==============================] - 6s 23ms/step - loss: 0.2873 - accuracy: 0.7999 - val_loss: 0.3080 - val_accuracy: 0.7810\n",
            "Epoch 5/20\n",
            "267/267 [==============================] - 6s 23ms/step - loss: 0.2600 - accuracy: 0.8291 - val_loss: 0.2555 - val_accuracy: 0.8440\n",
            "Epoch 6/20\n",
            "267/267 [==============================] - 6s 23ms/step - loss: 0.2288 - accuracy: 0.8601 - val_loss: 0.2135 - val_accuracy: 0.8800\n",
            "Epoch 7/20\n",
            "267/267 [==============================] - 6s 23ms/step - loss: 0.1945 - accuracy: 0.8960 - val_loss: 0.1862 - val_accuracy: 0.9100\n",
            "Epoch 8/20\n",
            "267/267 [==============================] - 6s 23ms/step - loss: 0.1687 - accuracy: 0.9166 - val_loss: 0.1761 - val_accuracy: 0.9170\n",
            "Epoch 9/20\n",
            "267/267 [==============================] - 6s 23ms/step - loss: 0.1452 - accuracy: 0.9359 - val_loss: 0.1678 - val_accuracy: 0.9190\n",
            "Epoch 10/20\n",
            "267/267 [==============================] - 6s 23ms/step - loss: 0.1323 - accuracy: 0.9449 - val_loss: 0.1672 - val_accuracy: 0.9215\n",
            "Epoch 11/20\n",
            "267/267 [==============================] - 6s 23ms/step - loss: 0.1173 - accuracy: 0.9531 - val_loss: 0.1490 - val_accuracy: 0.9370\n",
            "Epoch 12/20\n",
            "267/267 [==============================] - 6s 23ms/step - loss: 0.1105 - accuracy: 0.9606 - val_loss: 0.1438 - val_accuracy: 0.9360\n",
            "Epoch 13/20\n",
            "267/267 [==============================] - 6s 23ms/step - loss: 0.0990 - accuracy: 0.9672 - val_loss: 0.1422 - val_accuracy: 0.9465\n",
            "Epoch 14/20\n",
            "267/267 [==============================] - 6s 23ms/step - loss: 0.0954 - accuracy: 0.9706 - val_loss: 0.1430 - val_accuracy: 0.9450\n",
            "Epoch 15/20\n",
            "267/267 [==============================] - 6s 22ms/step - loss: 0.0923 - accuracy: 0.9704 - val_loss: 0.1442 - val_accuracy: 0.9420\n",
            "Epoch 16/20\n",
            "267/267 [==============================] - 6s 23ms/step - loss: 0.0906 - accuracy: 0.9736 - val_loss: 0.1708 - val_accuracy: 0.9215\n",
            "Epoch 17/20\n",
            "267/267 [==============================] - 6s 23ms/step - loss: 0.0908 - accuracy: 0.9732 - val_loss: 0.1680 - val_accuracy: 0.9360\n",
            "Epoch 18/20\n",
            "267/267 [==============================] - 6s 23ms/step - loss: 0.0795 - accuracy: 0.9797 - val_loss: 0.1410 - val_accuracy: 0.9435\n",
            "Epoch 19/20\n",
            "267/267 [==============================] - 6s 22ms/step - loss: 0.0765 - accuracy: 0.9787 - val_loss: 0.1309 - val_accuracy: 0.9525\n",
            "Epoch 20/20\n",
            "267/267 [==============================] - 6s 22ms/step - loss: 0.0768 - accuracy: 0.9797 - val_loss: 0.1219 - val_accuracy: 0.9575\n"
          ]
        }
      ]
    },
    {
      "cell_type": "code",
      "source": [
        "model7.save('/content/drive/My Drive/low_pass_model')"
      ],
      "metadata": {
        "colab": {
          "base_uri": "https://localhost:8080/"
        },
        "id": "QIXGOJiKKQN8",
        "outputId": "43f3ddbd-580c-4870-d4b2-9083608c08d5"
      },
      "execution_count": null,
      "outputs": [
        {
          "output_type": "stream",
          "name": "stdout",
          "text": [
            "INFO:tensorflow:Assets written to: /content/drive/My Drive/low_pass_model/assets\n"
          ]
        }
      ]
    },
    {
      "cell_type": "markdown",
      "source": [
        "## Gaussian + Laplacian Filter"
      ],
      "metadata": {
        "id": "XOrfMik-KHMW"
      }
    },
    {
      "cell_type": "code",
      "source": [
        "model8 = Sequential()\n",
        "\n",
        "model8.add(Conv2D(32,(3,3), padding='same',))\n",
        "model8.add(ReLU())\n",
        "model8.add(MaxPool2D(pool_size=(2,2)))\n",
        "model8.add(Dropout(0.2))\n",
        "\n",
        "model8.add(Conv2D(64, (3, 3), padding='same'))\n",
        "model8.add(ReLU())\n",
        "model8.add(MaxPool2D((2, 2)))\n",
        "model8.add(Dropout(0.2))\n",
        "\n",
        "model8.add(Conv2D(128, (3, 3), padding='same'))\n",
        "model8.add(ReLU())\n",
        "model8.add(MaxPool2D((2, 2)))\n",
        "model8.add(Dropout(0.2))\n",
        "\n",
        "model8.add(Flatten())\n",
        "\n",
        "model8.add(Dense(128, activation = 'relu', kernel_regularizer = l2 (l=0.0003)))\n",
        "model8.add(Dense(3, activation='sigmoid'))\n",
        "\n",
        "model8.compile(optimizer = 'adam', loss = 'binary_crossentropy', metrics = ['accuracy'])"
      ],
      "metadata": {
        "id": "IDds-B-JKJEm"
      },
      "execution_count": null,
      "outputs": []
    },
    {
      "cell_type": "code",
      "source": [
        "from scipy import ndimage\n",
        "\n",
        "n_images = 10000\n",
        "X_train_np = np.zeros((n_images, 178, 178, 6))\n",
        "\n",
        "low_kernel = np.array([[1, 2, 1],\n",
        "                   [2,  4, 2],\n",
        "                   [1, 2, 1]])/9\n",
        "\n",
        "high_kernel = np.array([[1, 1, 1],\n",
        "                        [1, -8, 1],\n",
        "                        [1, 1, 1]])\n",
        "\n",
        "print('.... Loading Images From Files ....')\n",
        "for i in range(n_images):\n",
        "  img0 = np.array(imread(X_train[i])/255.0)[:, :, 0]\n",
        "  img1 = np.array(imread(X_train[i])/255.0)[:, :, 1]\n",
        "  img2 = np.array(imread(X_train[i])/255.0)[:, :, 2]\n",
        "  X_train_np[i, :, :, 0] = ndimage.convolve(img0, low_kernel, mode='constant')\n",
        "  X_train_np[i, :, :, 1] = ndimage.convolve(img1, low_kernel, mode='constant')\n",
        "  X_train_np[i, :, :, 2] = ndimage.convolve(img2, low_kernel, mode='constant')\n",
        "  X_train_np[i, :, :, 3] = ndimage.convolve(img0, high_kernel, mode='constant')\n",
        "  X_train_np[i, :, :, 4] = ndimage.convolve(img1, high_kernel, mode='constant')\n",
        "  X_train_np[i, :, :, 5] = ndimage.convolve(img2, high_kernel, mode='constant')\n",
        "  if i%1000 == 0:\n",
        "    print('iteration', i)\n",
        "\n",
        "y_train_np = to_categorical(y_train)"
      ],
      "metadata": {
        "colab": {
          "base_uri": "https://localhost:8080/"
        },
        "id": "Ehs2xGUCKOL3",
        "outputId": "c1405950-67ce-4a59-cc42-1f7e2b38dfec"
      },
      "execution_count": null,
      "outputs": [
        {
          "output_type": "stream",
          "name": "stdout",
          "text": [
            ".... Loading Images From Files ....\n",
            "iteration 0\n",
            "iteration 1000\n",
            "iteration 2000\n",
            "iteration 3000\n",
            "iteration 4000\n",
            "iteration 5000\n",
            "iteration 6000\n",
            "iteration 7000\n",
            "iteration 8000\n",
            "iteration 9000\n"
          ]
        }
      ]
    },
    {
      "cell_type": "code",
      "source": [
        "history8 = model8.fit(X_train_np, y_train_np, batch_size=30, epochs=20, validation_split=0.2)"
      ],
      "metadata": {
        "colab": {
          "base_uri": "https://localhost:8080/"
        },
        "id": "qU0f-3LIKoHS",
        "outputId": "b9b614be-d99c-4235-c290-3373561fba97"
      },
      "execution_count": null,
      "outputs": [
        {
          "output_type": "stream",
          "name": "stdout",
          "text": [
            "Epoch 1/20\n",
            "267/267 [==============================] - 10s 35ms/step - loss: 0.4760 - accuracy: 0.6831 - val_loss: 0.3285 - val_accuracy: 0.8005\n",
            "Epoch 2/20\n",
            "267/267 [==============================] - 7s 28ms/step - loss: 0.2774 - accuracy: 0.8329 - val_loss: 0.2296 - val_accuracy: 0.8625\n",
            "Epoch 3/20\n",
            "267/267 [==============================] - 7s 28ms/step - loss: 0.1788 - accuracy: 0.9139 - val_loss: 0.1257 - val_accuracy: 0.9500\n",
            "Epoch 4/20\n",
            "267/267 [==============================] - 7s 28ms/step - loss: 0.1214 - accuracy: 0.9554 - val_loss: 0.0876 - val_accuracy: 0.9745\n",
            "Epoch 5/20\n",
            "267/267 [==============================] - 7s 28ms/step - loss: 0.0938 - accuracy: 0.9682 - val_loss: 0.0916 - val_accuracy: 0.9690\n",
            "Epoch 6/20\n",
            "267/267 [==============================] - 7s 27ms/step - loss: 0.0790 - accuracy: 0.9787 - val_loss: 0.0715 - val_accuracy: 0.9795\n",
            "Epoch 7/20\n",
            "267/267 [==============================] - 7s 27ms/step - loss: 0.0737 - accuracy: 0.9812 - val_loss: 0.0749 - val_accuracy: 0.9795\n",
            "Epoch 8/20\n",
            "267/267 [==============================] - 7s 27ms/step - loss: 0.0633 - accuracy: 0.9851 - val_loss: 0.0642 - val_accuracy: 0.9865\n",
            "Epoch 9/20\n",
            "267/267 [==============================] - 7s 27ms/step - loss: 0.0629 - accuracy: 0.9866 - val_loss: 0.0918 - val_accuracy: 0.9710\n",
            "Epoch 10/20\n",
            "267/267 [==============================] - 7s 27ms/step - loss: 0.0586 - accuracy: 0.9883 - val_loss: 0.0660 - val_accuracy: 0.9810\n",
            "Epoch 11/20\n",
            "267/267 [==============================] - 7s 27ms/step - loss: 0.0520 - accuracy: 0.9896 - val_loss: 0.0492 - val_accuracy: 0.9905\n",
            "Epoch 12/20\n",
            "267/267 [==============================] - 7s 27ms/step - loss: 0.0508 - accuracy: 0.9896 - val_loss: 0.0571 - val_accuracy: 0.9865\n",
            "Epoch 13/20\n",
            "267/267 [==============================] - 7s 27ms/step - loss: 0.0471 - accuracy: 0.9916 - val_loss: 0.0615 - val_accuracy: 0.9840\n",
            "Epoch 14/20\n",
            "267/267 [==============================] - 7s 27ms/step - loss: 0.0503 - accuracy: 0.9912 - val_loss: 0.0571 - val_accuracy: 0.9875\n",
            "Epoch 15/20\n",
            "267/267 [==============================] - 7s 28ms/step - loss: 0.0445 - accuracy: 0.9921 - val_loss: 0.0719 - val_accuracy: 0.9790\n",
            "Epoch 16/20\n",
            "267/267 [==============================] - 7s 28ms/step - loss: 0.0462 - accuracy: 0.9912 - val_loss: 0.0437 - val_accuracy: 0.9940\n",
            "Epoch 17/20\n",
            "267/267 [==============================] - 7s 28ms/step - loss: 0.0407 - accuracy: 0.9927 - val_loss: 0.0397 - val_accuracy: 0.9940\n",
            "Epoch 18/20\n",
            "267/267 [==============================] - 7s 27ms/step - loss: 0.0375 - accuracy: 0.9936 - val_loss: 0.0351 - val_accuracy: 0.9955\n",
            "Epoch 19/20\n",
            "267/267 [==============================] - 7s 27ms/step - loss: 0.0357 - accuracy: 0.9939 - val_loss: 0.0344 - val_accuracy: 0.9930\n",
            "Epoch 20/20\n",
            "267/267 [==============================] - 7s 28ms/step - loss: 0.0363 - accuracy: 0.9936 - val_loss: 0.0361 - val_accuracy: 0.9935\n"
          ]
        }
      ]
    },
    {
      "cell_type": "code",
      "source": [
        "model8.save('/content/drive/My Drive/high_low_model')"
      ],
      "metadata": {
        "colab": {
          "base_uri": "https://localhost:8080/"
        },
        "id": "iNmm7Q4ELqGr",
        "outputId": "616df980-cda7-48a5-cb29-d3b4232991d4"
      },
      "execution_count": null,
      "outputs": [
        {
          "output_type": "stream",
          "name": "stdout",
          "text": [
            "INFO:tensorflow:Assets written to: /content/drive/My Drive/high_low_model/assets\n"
          ]
        }
      ]
    },
    {
      "cell_type": "markdown",
      "source": [
        "## MiniBatch Std. Dev. + 3x3 Laplacian"
      ],
      "metadata": {
        "id": "nQFaod4yRrtN"
      }
    },
    {
      "cell_type": "code",
      "source": [
        "from scipy import ndimage\n",
        "\n",
        "n_images = 10000\n",
        "X_train_np = np.zeros((n_images, 178, 178, 3))\n",
        "\n",
        "kernel = np.array([[-1, -1, -1],\n",
        "                   [-1,  8, -1],\n",
        "                   [-1, -1, -1]])\n",
        "\n",
        "print('.... Loading Images From Files ....')\n",
        "for i in range(n_images):\n",
        "  img0 = np.array(imread(X_train[i])/255.0)[:, :, 0]\n",
        "  img1 = np.array(imread(X_train[i])/255.0)[:, :, 1]\n",
        "  img2 = np.array(imread(X_train[i])/255.0)[:, :, 2]\n",
        "  X_train_np[i, :, :, 0] = ndimage.convolve(img0, kernel, mode='constant')\n",
        "  X_train_np[i, :, :, 1] = ndimage.convolve(img1, kernel, mode='constant')\n",
        "  X_train_np[i, :, :, 2] = ndimage.convolve(img2, kernel, mode='constant')\n",
        "  if i%1000 == 0:\n",
        "    print('iteration', i)\n",
        "\n",
        "y_train_np = to_categorical(y_train)"
      ],
      "metadata": {
        "colab": {
          "base_uri": "https://localhost:8080/"
        },
        "id": "oHdHOJQcRpeY",
        "outputId": "24795c44-04cf-446c-a0c9-62d353b3eba9"
      },
      "execution_count": null,
      "outputs": [
        {
          "output_type": "stream",
          "name": "stdout",
          "text": [
            ".... Loading Images From Files ....\n",
            "iteration 0\n",
            "iteration 1000\n",
            "iteration 2000\n",
            "iteration 3000\n",
            "iteration 4000\n",
            "iteration 5000\n",
            "iteration 6000\n",
            "iteration 7000\n",
            "iteration 8000\n",
            "iteration 9000\n"
          ]
        }
      ]
    },
    {
      "cell_type": "code",
      "source": [
        "model8 = Sequential()\n",
        "\n",
        "model8.add(Conv2D(32,(3,3), padding='same',))\n",
        "model8.add(ReLU())\n",
        "model8.add(MaxPool2D(pool_size=(2,2)))\n",
        "model8.add(Dropout(0.2))\n",
        "\n",
        "model8.add(Conv2D(64, (3, 3), padding='same'))\n",
        "model8.add(ReLU())\n",
        "model8.add(MaxPool2D((2, 2)))\n",
        "model8.add(Dropout(0.2))\n",
        "\n",
        "model8.add(MinibatchStdev())\n",
        "\n",
        "model8.add(Conv2D(128, (3, 3), padding='same'))\n",
        "model8.add(ReLU())\n",
        "model8.add(MaxPool2D((2, 2)))\n",
        "model8.add(Dropout(0.2))\n",
        "\n",
        "model8.add(Flatten())\n",
        "\n",
        "model8.add(Dense(128, activation = 'relu', kernel_regularizer = l2 (l=0.0003)))\n",
        "model8.add(Dense(3, activation='sigmoid'))\n",
        "\n",
        "model8.compile(optimizer = 'adam', loss = 'binary_crossentropy', metrics = ['accuracy'])"
      ],
      "metadata": {
        "id": "-SEax9gnR0oy"
      },
      "execution_count": null,
      "outputs": []
    },
    {
      "cell_type": "code",
      "source": [
        "history8 = model8.fit(X_train_np, y_train_np, batch_size=30, epochs=20, validation_split=0.2)"
      ],
      "metadata": {
        "colab": {
          "base_uri": "https://localhost:8080/"
        },
        "id": "Lu5aXE7aSQda",
        "outputId": "a947e3fe-06b0-41f8-da81-e23ac7231945"
      },
      "execution_count": null,
      "outputs": [
        {
          "output_type": "stream",
          "name": "stdout",
          "text": [
            "Epoch 1/20\n",
            "267/267 [==============================] - 9s 30ms/step - loss: 0.4624 - accuracy: 0.6824 - val_loss: 0.2924 - val_accuracy: 0.8350\n",
            "Epoch 2/20\n",
            "267/267 [==============================] - 7s 25ms/step - loss: 0.2269 - accuracy: 0.8758 - val_loss: 0.1390 - val_accuracy: 0.9455\n",
            "Epoch 3/20\n",
            "267/267 [==============================] - 7s 25ms/step - loss: 0.1117 - accuracy: 0.9536 - val_loss: 0.0816 - val_accuracy: 0.9795\n",
            "Epoch 4/20\n",
            "267/267 [==============================] - 7s 25ms/step - loss: 0.0727 - accuracy: 0.9797 - val_loss: 0.0612 - val_accuracy: 0.9860\n",
            "Epoch 5/20\n",
            "267/267 [==============================] - 7s 25ms/step - loss: 0.0520 - accuracy: 0.9885 - val_loss: 0.0619 - val_accuracy: 0.9830\n",
            "Epoch 6/20\n",
            "267/267 [==============================] - 7s 25ms/step - loss: 0.0523 - accuracy: 0.9887 - val_loss: 0.0549 - val_accuracy: 0.9880\n",
            "Epoch 7/20\n",
            "267/267 [==============================] - 7s 25ms/step - loss: 0.0420 - accuracy: 0.9937 - val_loss: 0.0561 - val_accuracy: 0.9820\n",
            "Epoch 8/20\n",
            "267/267 [==============================] - 7s 25ms/step - loss: 0.0346 - accuracy: 0.9958 - val_loss: 0.0465 - val_accuracy: 0.9870\n",
            "Epoch 9/20\n",
            "267/267 [==============================] - 7s 25ms/step - loss: 0.0363 - accuracy: 0.9948 - val_loss: 0.0484 - val_accuracy: 0.9880\n",
            "Epoch 10/20\n",
            "267/267 [==============================] - 7s 25ms/step - loss: 0.0360 - accuracy: 0.9933 - val_loss: 0.0487 - val_accuracy: 0.9825\n",
            "Epoch 11/20\n",
            "267/267 [==============================] - 7s 25ms/step - loss: 0.0321 - accuracy: 0.9955 - val_loss: 0.0370 - val_accuracy: 0.9915\n",
            "Epoch 12/20\n",
            "267/267 [==============================] - 7s 25ms/step - loss: 0.0242 - accuracy: 0.9987 - val_loss: 0.0376 - val_accuracy: 0.9895\n",
            "Epoch 13/20\n",
            "267/267 [==============================] - 7s 25ms/step - loss: 0.0269 - accuracy: 0.9962 - val_loss: 0.0349 - val_accuracy: 0.9905\n",
            "Epoch 14/20\n",
            "267/267 [==============================] - 7s 25ms/step - loss: 0.0356 - accuracy: 0.9924 - val_loss: 0.0601 - val_accuracy: 0.9790\n",
            "Epoch 15/20\n",
            "267/267 [==============================] - 7s 25ms/step - loss: 0.0390 - accuracy: 0.9942 - val_loss: 0.0343 - val_accuracy: 0.9955\n",
            "Epoch 16/20\n",
            "267/267 [==============================] - 7s 25ms/step - loss: 0.0275 - accuracy: 0.9980 - val_loss: 0.0271 - val_accuracy: 0.9965\n",
            "Epoch 17/20\n",
            "267/267 [==============================] - 7s 25ms/step - loss: 0.0259 - accuracy: 0.9969 - val_loss: 0.0338 - val_accuracy: 0.9910\n",
            "Epoch 18/20\n",
            "267/267 [==============================] - 7s 25ms/step - loss: 0.0240 - accuracy: 0.9974 - val_loss: 0.0423 - val_accuracy: 0.9870\n",
            "Epoch 19/20\n",
            "267/267 [==============================] - 7s 25ms/step - loss: 0.0233 - accuracy: 0.9966 - val_loss: 0.0341 - val_accuracy: 0.9905\n",
            "Epoch 20/20\n",
            "267/267 [==============================] - 7s 25ms/step - loss: 0.0218 - accuracy: 0.9980 - val_loss: 0.0274 - val_accuracy: 0.9940\n"
          ]
        }
      ]
    },
    {
      "cell_type": "code",
      "source": [
        "plt.plot(history8.history['accuracy'], label = 'Training Accuracy')\n",
        "plt.plot(history8.history['val_accuracy'], label = 'Validation Accuray')\n",
        "plt.title('Accuracy vs Loss over Epochs')\n",
        "plt.xlabel('Epochs')\n",
        "plt.ylabel('Accuracy')\n",
        "plt.legend()"
      ],
      "metadata": {
        "colab": {
          "base_uri": "https://localhost:8080/",
          "height": 312
        },
        "id": "jZer_icDTFsZ",
        "outputId": "06494157-bde1-46aa-850e-6ba0e459b8ec"
      },
      "execution_count": null,
      "outputs": [
        {
          "output_type": "execute_result",
          "data": {
            "text/plain": [
              "<matplotlib.legend.Legend at 0x7ef9bae98510>"
            ]
          },
          "metadata": {},
          "execution_count": 45
        },
        {
          "output_type": "display_data",
          "data": {
            "image/png": "[encoded data removed]",
            "text/plain": [
              "<Figure size 432x288 with 1 Axes>"
            ]
          },
          "metadata": {
            "needs_background": "light"
          }
        }
      ]
    },
    {
      "cell_type": "code",
      "source": [
        "model8.save('/content/drive/My Drive/minibatchstddev')"
      ],
      "metadata": {
        "colab": {
          "base_uri": "https://localhost:8080/"
        },
        "id": "kc9Tatx5TXp3",
        "outputId": "689ca763-7b28-40c6-e1eb-7a1f6e00aa23"
      },
      "execution_count": null,
      "outputs": [
        {
          "output_type": "stream",
          "name": "stdout",
          "text": [
            "INFO:tensorflow:Assets written to: /content/drive/My Drive/minibatchstddev/assets\n"
          ]
        }
      ]
    },
    {
      "cell_type": "markdown",
      "source": [
        "## Standard Deviations Exploration"
      ],
      "metadata": {
        "id": "3c8IFzEOx8UG"
      }
    },
    {
      "cell_type": "code",
      "source": [
        "filenames, labels = generate(['CelebFaces', 'PGGAN', 'StyleGAN'])\n",
        "filenames_shuffled, labels_shuffled = shuffle(filenames, labels)\n",
        "X_train, X_test, y_train, y_test = train_test_split(filenames_shuffled, labels_shuffled, test_size = 0.2, random_state = 42)\n",
        "training_gen = Generator(X_train, y_train)"
      ],
      "metadata": {
        "id": "eSreHtZg8_nS"
      },
      "execution_count": null,
      "outputs": []
    },
    {
      "cell_type": "code",
      "source": [
        "StyleGAN = [X_train[i] for i in np.where(np.in1d(y_train, 0))[0]]\n",
        "CelebA = [X_train[i] for i in np.where(np.in1d(y_train, 1))[0]]\n",
        "PGGAN = [X_train[i] for i in np.where(np.in1d(y_train, 2))[0]]"
      ],
      "metadata": {
        "id": "S_lc8Fvhz2U9"
      },
      "execution_count": null,
      "outputs": []
    },
    {
      "cell_type": "code",
      "source": [
        "StyleGAN_np = np.zeros((len(StyleGAN), 178, 178, 3))\n",
        "\n",
        "kernel = np.array([[-1, -1, -1],\n",
        "                   [-1,  8, -1],\n",
        "                   [-1, -1, -1]])\n",
        "\n",
        "for i in range(len(StyleGAN)):\n",
        "  img0 = np.array(imread(StyleGAN[i])/255.0)[:, :, 0]\n",
        "  img1 = np.array(imread(StyleGAN[i])/255.0)[:, :, 1]\n",
        "  img2 = np.array(imread(StyleGAN[i])/255.0)[:, :, 2]\n",
        "  StyleGAN_np[i, :, :, 0] = ndimage.convolve(img0, kernel, mode='constant')\n",
        "  StyleGAN_np[i, :, :, 1] = ndimage.convolve(img1, kernel, mode='constant')\n",
        "  StyleGAN_np[i, :, :, 2] = ndimage.convolve(img2, kernel, mode='constant')\n",
        "Style_mean = np.mean(StyleGAN_np, axis=0)\n",
        "Style_sq_diff = np.square(StyleGAN_np - Style_mean)\n",
        "Style_mean_sq_diff = np.mean(Style_sq_diff, axis=0)\n",
        "Style_mean_sq_diff += 1e-8\n",
        "Style_std = np.sqrt(Style_mean_sq_diff)"
      ],
      "metadata": {
        "id": "1HjmFBP-9S66"
      },
      "execution_count": null,
      "outputs": []
    },
    {
      "cell_type": "code",
      "source": [
        "Style_norm = (Style_std - np.min(Style_std)) / (np.max(Style_std) - np.min(Style_std))"
      ],
      "metadata": {
        "id": "yp-k4TMyBREs"
      },
      "execution_count": null,
      "outputs": []
    },
    {
      "cell_type": "code",
      "source": [
        "print(np.mean(Style_std))"
      ],
      "metadata": {
        "colab": {
          "base_uri": "https://localhost:8080/"
        },
        "id": "judtTRfpVG41",
        "outputId": "6aa2002e-bf2d-4ffe-9d21-da9319abc8fb"
      },
      "execution_count": null,
      "outputs": [
        {
          "output_type": "stream",
          "name": "stdout",
          "text": [
            "0.5706469565672996\n"
          ]
        }
      ]
    },
    {
      "cell_type": "code",
      "source": [
        "plt.imshow(np.mean(Style_norm, axis=2))"
      ],
      "metadata": {
        "colab": {
          "base_uri": "https://localhost:8080/",
          "height": 286
        },
        "id": "HjHjb5cjAgjh",
        "outputId": "1a0cd460-3da9-4766-9464-a10be65daeb7"
      },
      "execution_count": null,
      "outputs": [
        {
          "output_type": "execute_result",
          "data": {
            "text/plain": [
              "<matplotlib.image.AxesImage at 0x7ef9bac00c50>"
            ]
          },
          "metadata": {},
          "execution_count": 26
        },
        {
          "output_type": "display_data",
          "data": {
            "image/png": "[encoded data removed]",
            "text/plain": [
              "<Figure size 432x288 with 1 Axes>"
            ]
          },
          "metadata": {
            "needs_background": "light"
          }
        }
      ]
    },
    {
      "cell_type": "code",
      "source": [
        "PGGAN_np = np.zeros((len(PGGAN), 178, 178, 3))\n",
        "for i in range(len(PGGAN)):\n",
        "  img0 = np.array(imread(PGGAN[i])/255.0)[:, :, 0]\n",
        "  img1 = np.array(imread(PGGAN[i])/255.0)[:, :, 1]\n",
        "  img2 = np.array(imread(PGGAN[i])/255.0)[:, :, 2]\n",
        "  PGGAN_np[i, :, :, 0] = ndimage.convolve(img0, kernel, mode='constant')\n",
        "  PGGAN_np[i, :, :, 1] = ndimage.convolve(img1, kernel, mode='constant')\n",
        "  PGGAN_np[i, :, :, 2] = ndimage.convolve(img2, kernel, mode='constant')\n",
        "PG_mean = np.mean(PGGAN_np, axis=0)\n",
        "PG_sq_diff = np.square(PGGAN_np - PG_mean)\n",
        "PG_mean_sq_diff = np.mean(PG_sq_diff, axis=0)\n",
        "PG_mean_sq_diff += 1e-8\n",
        "PG_std = np.sqrt(PG_mean_sq_diff)"
      ],
      "metadata": {
        "id": "HKkzr_7j_F2w"
      },
      "execution_count": null,
      "outputs": []
    },
    {
      "cell_type": "code",
      "source": [
        "plt.hist(PG_std.ravel(), bins=100)\n",
        "plt.show()"
      ],
      "metadata": {
        "colab": {
          "base_uri": "https://localhost:8080/",
          "height": 265
        },
        "id": "LP2Ka4BS_qNO",
        "outputId": "da133fdd-2387-4040-aba1-9f2730212824"
      },
      "execution_count": null,
      "outputs": [
        {
          "output_type": "display_data",
          "data": {
            "image/png": "[encoded data removed]",
            "text/plain": [
              "<Figure size 432x288 with 1 Axes>"
            ]
          },
          "metadata": {
            "needs_background": "light"
          }
        }
      ]
    },
    {
      "cell_type": "code",
      "source": [
        "print(np.mean(PG_std))"
      ],
      "metadata": {
        "colab": {
          "base_uri": "https://localhost:8080/"
        },
        "id": "ULwA2810VYLV",
        "outputId": "e13f51e8-5829-4e74-d4f1-4436a4c854fd"
      },
      "execution_count": null,
      "outputs": [
        {
          "output_type": "stream",
          "name": "stdout",
          "text": [
            "0.5796905879912594\n"
          ]
        }
      ]
    },
    {
      "cell_type": "code",
      "source": [
        "PG_norm = (PG_std - np.min(PG_std)) / (np.max(PG_std) - np.min(PG_std))"
      ],
      "metadata": {
        "id": "3cfthdKIBZ4d"
      },
      "execution_count": null,
      "outputs": []
    },
    {
      "cell_type": "code",
      "source": [
        "plt.imshow(np.mean(PG_norm, axis=2))"
      ],
      "metadata": {
        "colab": {
          "base_uri": "https://localhost:8080/",
          "height": 286
        },
        "id": "4PwqSYvYAwqw",
        "outputId": "ebffeef3-f18e-4b40-c887-25a86e2f2260"
      },
      "execution_count": null,
      "outputs": [
        {
          "output_type": "execute_result",
          "data": {
            "text/plain": [
              "<matplotlib.image.AxesImage at 0x7ef9bab66f50>"
            ]
          },
          "metadata": {},
          "execution_count": 30
        },
        {
          "output_type": "display_data",
          "data": {
            "image/png": "[encoded data removed]",
            "text/plain": [
              "<Figure size 432x288 with 1 Axes>"
            ]
          },
          "metadata": {
            "needs_background": "light"
          }
        }
      ]
    },
    {
      "cell_type": "code",
      "source": [
        "Celeb_np = np.zeros((len(CelebA), 178, 178, 3))\n",
        "for i in range(len(CelebA)):\n",
        "  img0 = np.array(imread(CelebA[i])/255.0)[:, :, 0]\n",
        "  img1 = np.array(imread(CelebA[i])/255.0)[:, :, 1]\n",
        "  img2 = np.array(imread(CelebA[i])/255.0)[:, :, 2]\n",
        "  Celeb_np[i, :, :, 0] = ndimage.convolve(img0, kernel, mode='constant')\n",
        "  Celeb_np[i, :, :, 1] = ndimage.convolve(img1, kernel, mode='constant')\n",
        "  Celeb_np[i, :, :, 2] = ndimage.convolve(img2, kernel, mode='constant')\n",
        "Celeb_mean = np.mean(Celeb_np, axis=0)\n",
        "Celeb_sq_diff = np.square(Celeb_np - PG_mean)\n",
        "Celeb_mean_sq_diff = np.mean(Celeb_sq_diff, axis=0)\n",
        "Celeb_mean_sq_diff += 1e-8\n",
        "Celeb_std = np.sqrt(Celeb_mean_sq_diff)"
      ],
      "metadata": {
        "id": "Zb28QD-P_sQk"
      },
      "execution_count": null,
      "outputs": []
    },
    {
      "cell_type": "code",
      "source": [
        "plt.hist(Celeb_std.ravel(), bins=100)\n",
        "plt.show()"
      ],
      "metadata": {
        "colab": {
          "base_uri": "https://localhost:8080/",
          "height": 267
        },
        "id": "1lb7zMs5_6bJ",
        "outputId": "0fc133d1-1577-4ead-d7e8-7384b0bad368"
      },
      "execution_count": null,
      "outputs": [
        {
          "output_type": "display_data",
          "data": {
            "image/png": "[encoded data removed]",
            "text/plain": [
              "<Figure size 432x288 with 1 Axes>"
            ]
          },
          "metadata": {
            "needs_background": "light"
          }
        }
      ]
    },
    {
      "cell_type": "code",
      "source": [
        "print(np.mean(Celeb_std))"
      ],
      "metadata": {
        "colab": {
          "base_uri": "https://localhost:8080/"
        },
        "id": "fiL64ezNVbgs",
        "outputId": "ca6c003e-56e4-4a2b-dab0-22c88d89c1c7"
      },
      "execution_count": null,
      "outputs": [
        {
          "output_type": "stream",
          "name": "stdout",
          "text": [
            "0.6031462356580046\n"
          ]
        }
      ]
    },
    {
      "cell_type": "code",
      "source": [
        "Celeb_norm = (Celeb_std - np.min(Celeb_std)) / (np.max(Celeb_std) - np.min(Celeb_std))"
      ],
      "metadata": {
        "id": "Lb93p7DgBigr"
      },
      "execution_count": null,
      "outputs": []
    },
    {
      "cell_type": "code",
      "source": [
        "plt.imshow(np.mean(Celeb_std, axis=2))"
      ],
      "metadata": {
        "colab": {
          "base_uri": "https://localhost:8080/",
          "height": 286
        },
        "id": "3x37Qudp_7w-",
        "outputId": "dbe6fa83-7431-43ec-81e3-6c52fdfd09ab"
      },
      "execution_count": null,
      "outputs": [
        {
          "output_type": "execute_result",
          "data": {
            "text/plain": [
              "<matplotlib.image.AxesImage at 0x7ef9bacb8650>"
            ]
          },
          "metadata": {},
          "execution_count": 36
        },
        {
          "output_type": "display_data",
          "data": {
            "image/png": "[encoded data removed]",
            "text/plain": [
              "<Figure size 432x288 with 1 Axes>"
            ]
          },
          "metadata": {
            "needs_background": "light"
          }
        }
      ]
    },
    {
      "cell_type": "code",
      "source": [
        "fig, ax = plt.subplots(3, 3, figsize=(10,10))\n",
        "plt.tight_layout()\n",
        "\n",
        "ax[0, 0].set_title('StyleGAN Std. Dev. Distribution')\n",
        "ax[0, 0].set_ylabel('Red Channel')\n",
        "ax[1, 0].set_ylabel('Green Channel')\n",
        "ax[2, 0].set_ylabel('Blue Channel')\n",
        "ax[0, 0].hist(Style_std[:, :, 0].ravel(), bins = 100)\n",
        "ax[1, 0].hist(Style_std[:, :, 1].ravel(), bins = 100)\n",
        "ax[2, 0].hist(Style_std[:, :, 2].ravel(), bins = 100)\n",
        "ax[0, 1].set_title('PGGAN Std. Dev. Distribution')\n",
        "ax[0, 1].hist(PG_std[:, :, 0].ravel(), bins = 100)\n",
        "ax[1, 1].hist(PG_std[:, :, 1].ravel(), bins = 100)\n",
        "ax[2, 1].hist(PG_std[:, :, 2].ravel(), bins = 100)\n",
        "ax[0, 2].set_title('CelebA Std. Dev. Distribution')\n",
        "ax[0, 2].hist(Celeb_std[:, :, 0].ravel(), bins = 100)\n",
        "ax[1, 2].hist(Celeb_std[:, :, 1].ravel(), bins = 100)\n",
        "ax[2, 2].hist(Celeb_std[:, :, 2].ravel(), bins = 100)\n",
        "\n",
        "plt.show()\n"
      ],
      "metadata": {
        "colab": {
          "base_uri": "https://localhost:8080/",
          "height": 741
        },
        "id": "n7SZYCSFIBL8",
        "outputId": "03ce736e-5af9-402b-c85e-4c1ed48e141d"
      },
      "execution_count": null,
      "outputs": [
        {
          "output_type": "display_data",
          "data": {
            "image/png": "[encoded data removed]",
            "text/plain": [
              "<Figure size 720x720 with 9 Axes>"
            ]
          },
          "metadata": {
            "needs_background": "light"
          }
        }
      ]
    },
    {
      "cell_type": "code",
      "source": [
        ""
      ],
      "metadata": {
        "id": "cA1C5BmsISa6"
      },
      "execution_count": null,
      "outputs": []
    }
  ],
  "metadata": {
    "accelerator": "GPU",
    "colab": {
      "machine_shape": "hm",
      "name": "COS429_Final.ipynb",
      "provenance": [],
      "collapsed_sections": [
        "AFwYDkWzCHBW",
        "SuVyP2xLCcvb",
        "9SwD2oC-C2Gb",
        "pBttU2giC4Dt",
        "NafgbHgMDKkt",
        "DT4MQgkxDXos",
        "8TbUNEEiDdjU",
        "8x6LS66iDgIO",
        "riBMZtxtGsxl",
        "2Xag58WDH5hu",
        "XOrfMik-KHMW",
        "nQFaod4yRrtN",
        "3c8IFzEOx8UG"
      ]
    },
    "kernelspec": {
      "display_name": "Python 3",
      "name": "python3"
    },
    "language_info": {
      "name": "python"
    }
  },
  "nbformat": 4,
  "nbformat_minor": 0
}